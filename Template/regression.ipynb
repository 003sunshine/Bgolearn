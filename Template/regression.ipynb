{
 "cells": [
  {
   "cell_type": "raw",
   "metadata": {},
   "source": [
    "Task:\n",
    "we whnt to derive the minimum function value of Y:\n",
    "    Y = 0.013*X**4 - 0.25*X**3 + 1.61*X**2 - 4.1*X + 8\n",
    "by 12 initial data and the recommendation of Bgolearn "
   ]
  },
  {
   "cell_type": "code",
   "execution_count": 1,
   "metadata": {},
   "outputs": [
    {
     "name": "stdout",
     "output_type": "stream",
     "text": [
      " Bgolearn : A Bayesian global optimization package \n",
      " 10 Jul 2022, version 1, Bin Cao, MGI, SHU, Shanghai, CHINA.\n"
     ]
    }
   ],
   "source": [
    "import numpy as np\n",
    "import pandas as pd\n",
    "import matplotlib.pyplot as plt\n",
    "\n",
    "import Bgolearn.BGOsampling as BGOS"
   ]
  },
  {
   "cell_type": "markdown",
   "metadata": {},
   "source": [
    "# It's a noise-free example/one-d"
   ]
  },
  {
   "cell_type": "markdown",
   "metadata": {},
   "source": [
    "## 1 : input the dataset "
   ]
  },
  {
   "cell_type": "code",
   "execution_count": 2,
   "metadata": {},
   "outputs": [],
   "source": [
    "data = pd.read_csv('data.csv')\n",
    "x = data.iloc[:,:-1]\n",
    "y = data.iloc[:,-1]"
   ]
  },
  {
   "cell_type": "code",
   "execution_count": 3,
   "metadata": {},
   "outputs": [
    {
     "data": {
      "text/html": [
       "<div>\n",
       "<style scoped>\n",
       "    .dataframe tbody tr th:only-of-type {\n",
       "        vertical-align: middle;\n",
       "    }\n",
       "\n",
       "    .dataframe tbody tr th {\n",
       "        vertical-align: top;\n",
       "    }\n",
       "\n",
       "    .dataframe thead th {\n",
       "        text-align: right;\n",
       "    }\n",
       "</style>\n",
       "<table border=\"1\" class=\"dataframe\">\n",
       "  <thead>\n",
       "    <tr style=\"text-align: right;\">\n",
       "      <th></th>\n",
       "      <th>x</th>\n",
       "      <th>y</th>\n",
       "    </tr>\n",
       "  </thead>\n",
       "  <tbody>\n",
       "    <tr>\n",
       "      <th>0</th>\n",
       "      <td>0.5</td>\n",
       "      <td>6.322063</td>\n",
       "    </tr>\n",
       "    <tr>\n",
       "      <th>1</th>\n",
       "      <td>1.0</td>\n",
       "      <td>5.273000</td>\n",
       "    </tr>\n",
       "    <tr>\n",
       "      <th>2</th>\n",
       "      <td>1.5</td>\n",
       "      <td>4.694562</td>\n",
       "    </tr>\n",
       "    <tr>\n",
       "      <th>3</th>\n",
       "      <td>2.0</td>\n",
       "      <td>4.448000</td>\n",
       "    </tr>\n",
       "    <tr>\n",
       "      <th>4</th>\n",
       "      <td>2.5</td>\n",
       "      <td>4.414062</td>\n",
       "    </tr>\n",
       "    <tr>\n",
       "      <th>5</th>\n",
       "      <td>3.0</td>\n",
       "      <td>4.493000</td>\n",
       "    </tr>\n",
       "    <tr>\n",
       "      <th>6</th>\n",
       "      <td>3.5</td>\n",
       "      <td>4.604563</td>\n",
       "    </tr>\n",
       "    <tr>\n",
       "      <th>7</th>\n",
       "      <td>4.0</td>\n",
       "      <td>4.688000</td>\n",
       "    </tr>\n",
       "    <tr>\n",
       "      <th>8</th>\n",
       "      <td>4.5</td>\n",
       "      <td>4.702063</td>\n",
       "    </tr>\n",
       "    <tr>\n",
       "      <th>9</th>\n",
       "      <td>9.0</td>\n",
       "      <td>4.553000</td>\n",
       "    </tr>\n",
       "    <tr>\n",
       "      <th>10</th>\n",
       "      <td>9.5</td>\n",
       "      <td>5.894563</td>\n",
       "    </tr>\n",
       "    <tr>\n",
       "      <th>11</th>\n",
       "      <td>10.0</td>\n",
       "      <td>8.000000</td>\n",
       "    </tr>\n",
       "  </tbody>\n",
       "</table>\n",
       "</div>"
      ],
      "text/plain": [
       "       x         y\n",
       "0    0.5  6.322063\n",
       "1    1.0  5.273000\n",
       "2    1.5  4.694562\n",
       "3    2.0  4.448000\n",
       "4    2.5  4.414062\n",
       "5    3.0  4.493000\n",
       "6    3.5  4.604563\n",
       "7    4.0  4.688000\n",
       "8    4.5  4.702063\n",
       "9    9.0  4.553000\n",
       "10   9.5  5.894563\n",
       "11  10.0  8.000000"
      ]
     },
     "execution_count": 3,
     "metadata": {},
     "output_type": "execute_result"
    }
   ],
   "source": [
    "data"
   ]
  },
  {
   "cell_type": "code",
   "execution_count": 4,
   "metadata": {},
   "outputs": [
    {
     "data": {
      "text/html": [
       "<div>\n",
       "<style scoped>\n",
       "    .dataframe tbody tr th:only-of-type {\n",
       "        vertical-align: middle;\n",
       "    }\n",
       "\n",
       "    .dataframe tbody tr th {\n",
       "        vertical-align: top;\n",
       "    }\n",
       "\n",
       "    .dataframe thead th {\n",
       "        text-align: right;\n",
       "    }\n",
       "</style>\n",
       "<table border=\"1\" class=\"dataframe\">\n",
       "  <thead>\n",
       "    <tr style=\"text-align: right;\">\n",
       "      <th></th>\n",
       "      <th>x</th>\n",
       "    </tr>\n",
       "  </thead>\n",
       "  <tbody>\n",
       "    <tr>\n",
       "      <th>0</th>\n",
       "      <td>0.5</td>\n",
       "    </tr>\n",
       "    <tr>\n",
       "      <th>1</th>\n",
       "      <td>1.0</td>\n",
       "    </tr>\n",
       "    <tr>\n",
       "      <th>2</th>\n",
       "      <td>1.5</td>\n",
       "    </tr>\n",
       "    <tr>\n",
       "      <th>3</th>\n",
       "      <td>2.0</td>\n",
       "    </tr>\n",
       "    <tr>\n",
       "      <th>4</th>\n",
       "      <td>2.5</td>\n",
       "    </tr>\n",
       "    <tr>\n",
       "      <th>5</th>\n",
       "      <td>3.0</td>\n",
       "    </tr>\n",
       "    <tr>\n",
       "      <th>6</th>\n",
       "      <td>3.5</td>\n",
       "    </tr>\n",
       "    <tr>\n",
       "      <th>7</th>\n",
       "      <td>4.0</td>\n",
       "    </tr>\n",
       "    <tr>\n",
       "      <th>8</th>\n",
       "      <td>4.5</td>\n",
       "    </tr>\n",
       "    <tr>\n",
       "      <th>9</th>\n",
       "      <td>9.0</td>\n",
       "    </tr>\n",
       "    <tr>\n",
       "      <th>10</th>\n",
       "      <td>9.5</td>\n",
       "    </tr>\n",
       "    <tr>\n",
       "      <th>11</th>\n",
       "      <td>10.0</td>\n",
       "    </tr>\n",
       "  </tbody>\n",
       "</table>\n",
       "</div>"
      ],
      "text/plain": [
       "       x\n",
       "0    0.5\n",
       "1    1.0\n",
       "2    1.5\n",
       "3    2.0\n",
       "4    2.5\n",
       "5    3.0\n",
       "6    3.5\n",
       "7    4.0\n",
       "8    4.5\n",
       "9    9.0\n",
       "10   9.5\n",
       "11  10.0"
      ]
     },
     "execution_count": 4,
     "metadata": {},
     "output_type": "execute_result"
    }
   ],
   "source": [
    "x"
   ]
  },
  {
   "cell_type": "code",
   "execution_count": 5,
   "metadata": {},
   "outputs": [
    {
     "data": {
      "text/plain": [
       "0     6.322063\n",
       "1     5.273000\n",
       "2     4.694562\n",
       "3     4.448000\n",
       "4     4.414062\n",
       "5     4.493000\n",
       "6     4.604563\n",
       "7     4.688000\n",
       "8     4.702063\n",
       "9     4.553000\n",
       "10    5.894563\n",
       "11    8.000000\n",
       "Name: y, dtype: float64"
      ]
     },
     "execution_count": 5,
     "metadata": {},
     "output_type": "execute_result"
    }
   ],
   "source": [
    "y"
   ]
  },
  {
   "cell_type": "markdown",
   "metadata": {},
   "source": [
    "## 2 : design virtual space"
   ]
  },
  {
   "cell_type": "code",
   "execution_count": 6,
   "metadata": {},
   "outputs": [
    {
     "data": {
      "text/plain": [
       "array([ 0. ,  0.1,  0.2,  0.3,  0.4,  0.5,  0.6,  0.7,  0.8,  0.9,  1. ,\n",
       "        1.1,  1.2,  1.3,  1.4,  1.5,  1.6,  1.7,  1.8,  1.9,  2. ,  2.1,\n",
       "        2.2,  2.3,  2.4,  2.5,  2.6,  2.7,  2.8,  2.9,  3. ,  3.1,  3.2,\n",
       "        3.3,  3.4,  3.5,  3.6,  3.7,  3.8,  3.9,  4. ,  4.1,  4.2,  4.3,\n",
       "        4.4,  4.5,  4.6,  4.7,  4.8,  4.9,  5. ,  5.1,  5.2,  5.3,  5.4,\n",
       "        5.5,  5.6,  5.7,  5.8,  5.9,  6. ,  6.1,  6.2,  6.3,  6.4,  6.5,\n",
       "        6.6,  6.7,  6.8,  6.9,  7. ,  7.1,  7.2,  7.3,  7.4,  7.5,  7.6,\n",
       "        7.7,  7.8,  7.9,  8. ,  8.1,  8.2,  8.3,  8.4,  8.5,  8.6,  8.7,\n",
       "        8.8,  8.9,  9. ,  9.1,  9.2,  9.3,  9.4,  9.5,  9.6,  9.7,  9.8,\n",
       "        9.9, 10. , 10.1, 10.2, 10.3, 10.4, 10.5, 10.6, 10.7, 10.8, 10.9,\n",
       "       11. ])"
      ]
     },
     "execution_count": 6,
     "metadata": {},
     "output_type": "execute_result"
    }
   ],
   "source": [
    "# searching domain is [0,11]\n",
    "# one-d\n",
    "vs = np.linspace(0,11,111)\n",
    "vs"
   ]
  },
  {
   "cell_type": "code",
   "execution_count": 7,
   "metadata": {},
   "outputs": [
    {
     "data": {
      "text/plain": [
       "111"
      ]
     },
     "execution_count": 7,
     "metadata": {},
     "output_type": "execute_result"
    }
   ],
   "source": [
    "len(vs)"
   ]
  },
  {
   "cell_type": "markdown",
   "metadata": {},
   "source": [
    "## the true function and initial data distribution"
   ]
  },
  {
   "cell_type": "code",
   "execution_count": 8,
   "metadata": {},
   "outputs": [],
   "source": [
    "# true function \n",
    "def function(X):\n",
    "    X = np.array(X)\n",
    "    Y = 0.013*X**4 - 0.25*X**3 + 1.61*X**2 - 4.1*X + 8\n",
    "    return Y"
   ]
  },
  {
   "cell_type": "code",
   "execution_count": 9,
   "metadata": {},
   "outputs": [
    {
     "data": {
      "text/plain": [
       "<matplotlib.legend.Legend at 0x7f7d20055df0>"
      ]
     },
     "execution_count": 9,
     "metadata": {},
     "output_type": "execute_result"
    },
    {
     "data": {
      "image/png": "[encoded data removed]",
      "text/plain": [
       "<Figure size 432x288 with 1 Axes>"
      ]
     },
     "metadata": {
      "needs_background": "light"
     },
     "output_type": "display_data"
    }
   ],
   "source": [
    "\n",
    "plt.figure()\n",
    "ax1 = plt.subplot()\n",
    "ax1.scatter(x,y,c='r',s=50,zorder=10,edgecolors=(0,0,0),label=\"training data\")\n",
    "ax1.plot(vs,function(vs),'b',lw=2,label=\"ture function\")\n",
    "plt.xlabel('x',fontsize = 12)\n",
    "plt.ylabel('y',fontsize = 12)\n",
    "plt.legend(fontsize = 11)"
   ]
  },
  {
   "cell_type": "markdown",
   "metadata": {},
   "source": [
    "## 3 : give the next recommendation by Bgolearn"
   ]
  },
  {
   "cell_type": "code",
   "execution_count": 10,
   "metadata": {},
   "outputs": [
    {
     "name": "stdout",
     "output_type": "stream",
     "text": [
      "The internal model is instantiated with homogenous noise: 1e-05\n",
      "current optimal is : 4.4140625\n",
      "The next datum recomended by Expected Improvement : \n",
      " x =  [6.4]\n"
     ]
    }
   ],
   "source": [
    "Bgolearn = BGOS.Bgolearn()\n",
    "\n",
    "Mymodel = Bgolearn.fit(data_matrix = x,Measured_response = y , virtual_samples = vs)\n",
    "\n",
    "# Expected Improvement method\n",
    "score, data = Mymodel.EI()"
   ]
  },
  {
   "cell_type": "code",
   "execution_count": 11,
   "metadata": {},
   "outputs": [
    {
     "data": {
      "text/plain": [
       "array([5.04768331e-036, 1.87743872e-066, 3.01612491e-145, 0.00000000e+000,\n",
       "       0.00000000e+000, 0.00000000e+000, 0.00000000e+000, 0.00000000e+000,\n",
       "       0.00000000e+000, 0.00000000e+000, 0.00000000e+000, 0.00000000e+000,\n",
       "       0.00000000e+000, 0.00000000e+000, 0.00000000e+000, 0.00000000e+000,\n",
       "       0.00000000e+000, 1.70842602e-185, 7.02030131e-090, 8.00572407e-044,\n",
       "       3.55805392e-017, 8.90925717e-006, 3.04936655e-003, 7.92343251e-003,\n",
       "       7.01599037e-003, 1.94738361e-003, 1.91293556e-005, 2.90898666e-010,\n",
       "       3.72678834e-020, 5.82126642e-040, 7.79413435e-070, 2.33371474e-095,\n",
       "       1.59697059e-118, 5.49193303e-164, 5.43289815e-262, 0.00000000e+000,\n",
       "       0.00000000e+000, 1.23195608e-294, 6.31781947e-313, 0.00000000e+000,\n",
       "       0.00000000e+000, 0.00000000e+000, 1.29589648e-147, 3.55967504e-104,\n",
       "       2.02640634e-151, 0.00000000e+000, 1.67694168e-046, 6.95410408e-011,\n",
       "       1.82318912e-005, 9.12219590e-004, 5.39317256e-003, 1.46543070e-002,\n",
       "       2.77692501e-002, 4.31920041e-002, 5.94625898e-002, 7.53903053e-002,\n",
       "       9.00856032e-002, 1.02953420e-001, 1.13669830e-001, 1.22144662e-001,\n",
       "       1.28472240e-001, 1.32875092e-001, 1.35647073e-001, 1.37102458e-001,\n",
       "       1.37536025e-001, 1.37196841e-001, 1.36275823e-001, 1.34904931e-001,\n",
       "       1.33164502e-001, 1.31094791e-001, 1.28708377e-001, 1.26001150e-001,\n",
       "       1.22960947e-001, 1.19574075e-001, 1.15830631e-001, 1.11729628e-001,\n",
       "       1.07284437e-001, 1.02528232e-001, 9.75183475e-002, 9.23378314e-002,\n",
       "       8.70921671e-002, 8.18985724e-002, 7.68634513e-002, 7.20380960e-002,\n",
       "       6.73285628e-002, 6.23029958e-002, 5.57792545e-002, 4.50572888e-002,\n",
       "       2.55050017e-002, 1.45074712e-003, 7.60209959e-203, 1.53059930e-034,\n",
       "       1.32389251e-052, 8.59340998e-148, 0.00000000e+000, 0.00000000e+000,\n",
       "       0.00000000e+000, 0.00000000e+000, 0.00000000e+000, 0.00000000e+000,\n",
       "       0.00000000e+000, 0.00000000e+000, 0.00000000e+000, 9.26489136e-160,\n",
       "       1.66743926e-077, 9.23203195e-044, 2.54609729e-027, 2.45846405e-018,\n",
       "       5.28690911e-013, 1.23307580e-009, 2.10332615e-007])"
      ]
     },
     "execution_count": 11,
     "metadata": {},
     "output_type": "execute_result"
    }
   ],
   "source": [
    "# score : the  assessment scores of Bgolearn by EI mothod for all the candidates, higher the better\n",
    "score"
   ]
  },
  {
   "cell_type": "code",
   "execution_count": 12,
   "metadata": {},
   "outputs": [
    {
     "data": {
      "text/plain": [
       "array([[6.4]])"
      ]
     },
     "execution_count": 12,
     "metadata": {},
     "output_type": "execute_result"
    }
   ],
   "source": [
    "# datum : the datum Bgolearn recommended which is most likely to be the minimun\n",
    "data"
   ]
  },
  {
   "cell_type": "markdown",
   "metadata": {},
   "source": [
    "## 4 : verify the recommended datum and add the result into the dataset"
   ]
  },
  {
   "cell_type": "code",
   "execution_count": 13,
   "metadata": {},
   "outputs": [
    {
     "data": {
      "text/plain": [
       "3.9799808000000034"
      ]
     },
     "execution_count": 13,
     "metadata": {},
     "output_type": "execute_result"
    }
   ],
   "source": [
    "# simulate an experiment\n",
    "new_y = function(6.4)\n",
    "new_y"
   ]
  },
  {
   "cell_type": "raw",
   "metadata": {},
   "source": [
    "add datum [6.4,3.9799808000000034] into training dataset, i.e., x"
   ]
  },
  {
   "cell_type": "markdown",
   "metadata": {},
   "source": [
    "## 5 : about Bgolearn in step 3"
   ]
  },
  {
   "cell_type": "markdown",
   "metadata": {},
   "source": [
    "+ if we want to define a specific regression model"
   ]
  },
  {
   "cell_type": "code",
   "execution_count": 14,
   "metadata": {},
   "outputs": [],
   "source": [
    "from sklearn.gaussian_process import GaussianProcessRegressor\n",
    "from sklearn.gaussian_process.kernels import  RBF\n",
    "\n",
    "class My_Regressor(object):\n",
    "    def fit_pre(self,xtrain,ytrain,xtest):\n",
    "        # instantiated model\n",
    "        mdoel = GaussianProcessRegressor(kernel=RBF()).fit(xtrain,ytrain)\n",
    "        # defined the attribute's outputs\n",
    "        mean,std = mdoel.predict(xtest,return_std=True)\n",
    "        return mean,std    "
   ]
  },
  {
   "cell_type": "code",
   "execution_count": 15,
   "metadata": {},
   "outputs": [
    {
     "name": "stdout",
     "output_type": "stream",
     "text": [
      "The external model is instantiated\n",
      "current optimal is : 4.4140625\n",
      "The next datum recomended by Expected Improvement : \n",
      " x =  [6.7]\n"
     ]
    }
   ],
   "source": [
    "Bgolearn = BGOS.Bgolearn()\n",
    "\n",
    "Mymodel = Bgolearn.fit(\n",
    "    data_matrix = x,Measured_response = y , virtual_samples = vs,\n",
    "    Kriging_model = My_Regressor\n",
    "    \n",
    ")\n",
    "\n",
    "# Expected Improvement method\n",
    "score, data = Mymodel.EI()"
   ]
  },
  {
   "cell_type": "markdown",
   "metadata": {},
   "source": [
    "+ Bgolearn can recommend n candidates at the same time"
   ]
  },
  {
   "cell_type": "code",
   "execution_count": 16,
   "metadata": {},
   "outputs": [
    {
     "name": "stdout",
     "output_type": "stream",
     "text": [
      "The internal model is instantiated with homogenous noise: 1e-05\n",
      "current optimal is : 4.4140625\n",
      "The 1-th datum recomended by Expected Improvement : \n",
      " x =  [6.3]\n",
      "The 2-th datum recomended by Expected Improvement : \n",
      " x =  [6.5]\n",
      "The 3-th datum recomended by Expected Improvement : \n",
      " x =  [6.4]\n"
     ]
    }
   ],
   "source": [
    "Bgolearn = BGOS.Bgolearn()\n",
    "\n",
    "# for n = 3\n",
    "Mymodel = Bgolearn.fit(\n",
    "    data_matrix = x,Measured_response = y , virtual_samples = vs,\n",
    "    opt_num = 3\n",
    "    \n",
    ")\n",
    "\n",
    "# Expected Improvement method\n",
    "score, data = Mymodel.EI()"
   ]
  },
  {
   "cell_type": "markdown",
   "metadata": {},
   "source": [
    "+ if we want to search the maximum "
   ]
  },
  {
   "cell_type": "code",
   "execution_count": 17,
   "metadata": {},
   "outputs": [
    {
     "name": "stdout",
     "output_type": "stream",
     "text": [
      "The internal model is instantiated with homogenous noise: 1e-05\n",
      "current optimal is : 8.0\n",
      "The next datum recomended by Expected Improvement : \n",
      " x =  [10.5]\n"
     ]
    }
   ],
   "source": [
    "Bgolearn = BGOS.Bgolearn()\n",
    "\n",
    "Mymodel = Bgolearn.fit(\n",
    "    data_matrix = x,Measured_response = y , virtual_samples = vs,\n",
    "    min_search = False\n",
    "    \n",
    ")\n",
    "\n",
    "# Expected Improvement method\n",
    "score, data = Mymodel.EI()"
   ]
  },
  {
   "cell_type": "markdown",
   "metadata": {},
   "source": [
    "+ if we want to test the fitting goodness of model on training dataset by Bgolearn"
   ]
  },
  {
   "cell_type": "code",
   "execution_count": 18,
   "metadata": {},
   "outputs": [
    {
     "name": "stdout",
     "output_type": "stream",
     "text": [
      "The internal model is instantiated with homogenous noise: 1e-05\n",
      "Time consuming warning\n",
      "LeaveOneOut Cross validation is applied\n",
      "Fitting goodness on training dataset: \n",
      "  RMSE = 0.000151   MAE = 0.000122   R2 = 1.000000\n",
      "Fitting goodness of LOOCV:\n",
      "  RMSE = 0.592031   MAE = 0.295321   R2 = 0.671415\n",
      "current optimal is : 4.4140625\n",
      "The next datum recomended by Expected Improvement : \n",
      " x =  [6.4]\n"
     ]
    }
   ],
   "source": [
    "Bgolearn = BGOS.Bgolearn()\n",
    "\n",
    "# by leave one out cross validation \n",
    "Mymodel = Bgolearn.fit(\n",
    "    data_matrix = x,Measured_response = y , virtual_samples = vs,\n",
    "    CV_test = 'LOOCV'\n",
    "    \n",
    ")\n",
    "\n",
    "# Expected Improvement method\n",
    "score, data = Mymodel.EI()"
   ]
  },
  {
   "cell_type": "code",
   "execution_count": 19,
   "metadata": {},
   "outputs": [
    {
     "name": "stdout",
     "output_type": "stream",
     "text": [
      "The internal model is instantiated with homogenous noise: 1e-05\n",
      "Time consuming warning\n",
      "5-folds Cross validation is applied\n",
      "Fitting goodness on training dataset: \n",
      "  RMSE = 0.000151   MAE = 0.000122   R2 = 1.000000\n",
      "Fitting goodness of 5-CVs:\n",
      "  RMSE = 0.848805   MAE = 0.435063   R2 = 0.324578\n",
      "current optimal is : 4.4140625\n",
      "The next datum recomended by Expected Improvement : \n",
      " x =  [6.4]\n"
     ]
    }
   ],
   "source": [
    "Bgolearn = BGOS.Bgolearn()\n",
    "\n",
    "# by n-folds cross validation\n",
    "# if n = 5\n",
    "Mymodel = Bgolearn.fit(\n",
    "    data_matrix = x,Measured_response = y , virtual_samples = vs,\n",
    "    CV_test = 5\n",
    "    \n",
    ")\n",
    "\n",
    "# Expected Improvement method\n",
    "score, data = Mymodel.EI()"
   ]
  },
  {
   "cell_type": "markdown",
   "metadata": {},
   "source": [
    "+ if we want to use other acquisition function, e.g., Knowledge Gradient"
   ]
  },
  {
   "cell_type": "code",
   "execution_count": 20,
   "metadata": {},
   "outputs": [
    {
     "name": "stdout",
     "output_type": "stream",
     "text": [
      "The internal model is instantiated with homogenous noise: 1e-05\n",
      "The 2000-th Monte carol simulation\n",
      "The 4000-th Monte carol simulation\n",
      "The next datum recomended by Knowledge Gradient : \n",
      " x =  [6.3]\n"
     ]
    }
   ],
   "source": [
    "Bgolearn = BGOS.Bgolearn()\n",
    "\n",
    "Mymodel = Bgolearn.fit(\n",
    "    data_matrix = x,Measured_response = y , virtual_samples = vs,\n",
    "\n",
    ")\n",
    "\n",
    "# Expected Improvement method\n",
    "score, data = Mymodel.Knowledge_G()"
   ]
  },
  {
   "cell_type": "code",
   "execution_count": null,
   "metadata": {},
   "outputs": [],
   "source": []
  }
 ],
 "metadata": {
  "kernelspec": {
   "display_name": "Python 3 (ipykernel)",
   "language": "python",
   "name": "python3"
  },
  "language_info": {
   "codemirror_mode": {
    "name": "ipython",
    "version": 3
   },
   "file_extension": ".py",
   "mimetype": "text/x-python",
   "name": "python",
   "nbconvert_exporter": "python",
   "pygments_lexer": "ipython3",
   "version": "3.9.7"
  }
 },
 "nbformat": 4,
 "nbformat_minor": 4
}
