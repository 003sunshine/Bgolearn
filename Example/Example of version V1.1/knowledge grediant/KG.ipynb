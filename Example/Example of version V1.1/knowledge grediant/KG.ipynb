{
 "cells": [
  {
   "cell_type": "code",
   "execution_count": 2,
   "metadata": {},
   "outputs": [
    {
     "name": "stdout",
     "output_type": "stream",
     "text": [
      " Bgolearn : A Bayesian global optimization package \n",
      " 10 Jul 2022, version 1, Bin Cao, MGI, SHU, Shanghai, CHINA.\n"
     ]
    }
   ],
   "source": [
    "import random\n",
    "import copy\n",
    "import numpy as np\n",
    "import matplotlib.pyplot as plt\n",
    "import pandas as pd\n",
    "from matplotlib.colors import LogNorm\n",
    "from sklearn.gaussian_process import GaussianProcessRegressor\n",
    "from sklearn.gaussian_process.kernels import  RBF\n",
    "\n",
    "import Bgolearn.BGOsampling as BGOS "
   ]
  },
  {
   "cell_type": "code",
   "execution_count": 3,
   "metadata": {},
   "outputs": [],
   "source": [
    "def True_function(X):\n",
    "    X = np.array(X)\n",
    "    Y = 0.013*X**4 - 0.25*X**3 + 1.61*X**2 - 4.1*X + 8\n",
    "    return Y"
   ]
  },
  {
   "cell_type": "code",
   "execution_count": 4,
   "metadata": {},
   "outputs": [],
   "source": [
    "def generate_function(data, obs):\n",
    "    print('------------12 original data-----------')\n",
    "    data = np.array(data)\n",
    "    # for one feature dataset\n",
    "    data_matrix = np.array(data[:,0]).reshape(-1, 1)\n",
    "\n",
    "    Measured_response = np.zeros(len(data_matrix))\n",
    "    for i in range(obs):\n",
    "        Measured_response += np.array(data[:,i+1])\n",
    "    # for one feature dataset\n",
    "    Measured_response = Measured_response/obs\n",
    "    \n",
    "    Measured_std = []\n",
    "    for j in range(len(data_matrix)):\n",
    "        std = np.std(np.array(data[j,1:1+obs]))\n",
    "        Measured_std.append(std)\n",
    "    Measured_std = np.array(Measured_std)  \n",
    "    print('evaluated mean of y :', Measured_response)\n",
    "    print('evaluated std of y :', Measured_std)\n",
    "    print('---------------------------------------\\n')\n",
    "    return data_matrix,Measured_response,Measured_std"
   ]
  },
  {
   "cell_type": "markdown",
   "metadata": {},
   "source": [
    "## design virtual samples"
   ]
  },
  {
   "cell_type": "code",
   "execution_count": 5,
   "metadata": {},
   "outputs": [],
   "source": [
    "virtual_samples = np.linspace(0,11,111)"
   ]
  },
  {
   "cell_type": "code",
   "execution_count": 6,
   "metadata": {},
   "outputs": [
    {
     "data": {
      "text/plain": [
       "array([ 0. ,  0.1,  0.2,  0.3,  0.4,  0.5,  0.6,  0.7,  0.8,  0.9,  1. ,\n",
       "        1.1,  1.2,  1.3,  1.4,  1.5,  1.6,  1.7,  1.8,  1.9,  2. ,  2.1,\n",
       "        2.2,  2.3,  2.4,  2.5,  2.6,  2.7,  2.8,  2.9,  3. ,  3.1,  3.2,\n",
       "        3.3,  3.4,  3.5,  3.6,  3.7,  3.8,  3.9,  4. ,  4.1,  4.2,  4.3,\n",
       "        4.4,  4.5,  4.6,  4.7,  4.8,  4.9,  5. ,  5.1,  5.2,  5.3,  5.4,\n",
       "        5.5,  5.6,  5.7,  5.8,  5.9,  6. ,  6.1,  6.2,  6.3,  6.4,  6.5,\n",
       "        6.6,  6.7,  6.8,  6.9,  7. ,  7.1,  7.2,  7.3,  7.4,  7.5,  7.6,\n",
       "        7.7,  7.8,  7.9,  8. ,  8.1,  8.2,  8.3,  8.4,  8.5,  8.6,  8.7,\n",
       "        8.8,  8.9,  9. ,  9.1,  9.2,  9.3,  9.4,  9.5,  9.6,  9.7,  9.8,\n",
       "        9.9, 10. , 10.1, 10.2, 10.3, 10.4, 10.5, 10.6, 10.7, 10.8, 10.9,\n",
       "       11. ])"
      ]
     },
     "execution_count": 6,
     "metadata": {},
     "output_type": "execute_result"
    }
   ],
   "source": [
    "virtual_samples"
   ]
  },
  {
   "cell_type": "markdown",
   "metadata": {},
   "source": [
    "## define a  sampling function"
   ]
  },
  {
   "cell_type": "code",
   "execution_count": 7,
   "metadata": {},
   "outputs": [],
   "source": [
    "def Sam_function(X,real_std,obs):\n",
    "    print('--------------Draw samples-------------')\n",
    "    print('real std of added datum:', real_std)\n",
    "    X = np.array(X)\n",
    "    Y = np.zeros(1)\n",
    "    Y_obs = []\n",
    "    for i in range(obs):\n",
    "        __sam = 0.013*X**4 - 0.25*X**3 + 1.61*X**2 - 4.1*X + 8 + np.random.normal(loc=0.0, scale=real_std, size=None)\n",
    "        Y_obs.append(__sam)\n",
    "        Y += __sam\n",
    "        print(i+1,'-th sampling, result = ', __sam)\n",
    "    cal_std = np.std(np.array(Y_obs))\n",
    "    print('evaluated mean of added datum:', Y/obs)\n",
    "    print('evaluated std of added datum:', cal_std)\n",
    "    print('---------------------------------------\\n')\n",
    "    return Y/obs, np.array(cal_std), np.array(Y_obs)\n"
   ]
  },
  {
   "cell_type": "markdown",
   "metadata": {},
   "source": [
    "# heterogeneous noise\n"
   ]
  },
  {
   "cell_type": "code",
   "execution_count": 8,
   "metadata": {},
   "outputs": [],
   "source": [
    "# instantiate Bgolearn\n",
    "Bgolearn = BGOS.Bgolearn()\n",
    "method_name = 'KG'\n",
    "\n",
    "obs = 5\n",
    "tolerance = 0.05\n",
    "guessed_noise_std = 'hetero'"
   ]
  },
  {
   "cell_type": "code",
   "execution_count": null,
   "metadata": {},
   "outputs": [
    {
     "name": "stdout",
     "output_type": "stream",
     "text": [
      "------------12 original data-----------\n",
      "evaluated mean of y : [6.38302126 5.47159103 4.62333861 4.45561327 4.45288222 4.66633633\n",
      " 4.60958967 4.62022357 4.74050698 4.45448135 5.94232697 7.79008494]\n",
      "evaluated std of y : [0.31854553 0.36548063 0.05840252 0.72653212 0.30438189 0.24369472\n",
      " 0.0862756  0.38254565 0.23908561 0.10964916 0.20850551 0.21403299]\n",
      "---------------------------------------\n",
      "\n",
      "The internal model is instantiated with heterogenous noise\n",
      "The 2000-th Monte carol simulation\n",
      "The 4000-th Monte carol simulation\n",
      "The next datum recomended by Knowledge Gradient : \n",
      " x =  [8.4]\n",
      "--------------Draw samples-------------\n",
      "real std of added datum: 0.3\n",
      "1 -th sampling, result =  3.8619736080569145\n",
      "2 -th sampling, result =  3.8196576125765316\n",
      "3 -th sampling, result =  3.9675560925269804\n",
      "4 -th sampling, result =  3.863819140607792\n",
      "5 -th sampling, result =  3.7274312256328885\n",
      "evaluated mean of added datum: [3.84808754]\n",
      "evaluated std of added datum: 0.07756190837855273\n",
      "---------------------------------------\n",
      "\n",
      "1-th iteration \n",
      " new added datum: (8.4, array([3.84808754]))\n"
     ]
    },
    {
     "data": {
      "image/png": "[encoded data removed]",
      "text/plain": [
       "<Figure size 432x288 with 1 Axes>"
      ]
     },
     "metadata": {
      "needs_background": "light"
     },
     "output_type": "display_data"
    },
    {
     "name": "stdout",
     "output_type": "stream",
     "text": [
      "The internal model is instantiated with heterogenous noise\n",
      "The 2000-th Monte carol simulation\n"
     ]
    }
   ],
   "source": [
    "sort_ab=('a','b','c','d','e','f','g','h','i','j','k','l','m','n')\n",
    "\n",
    "data = pd.read_csv('data.csv')\n",
    "data_matrix, Measured_response,Measured_std = generate_function(data,obs)\n",
    "cal_name = data.columns[1:]\n",
    "response_array = copy.deepcopy(Measured_response)\n",
    "\n",
    "recom_x = []   \n",
    "recom_obs = []\n",
    "recom_real_std = []\n",
    "recom_estimate_mu = []\n",
    "recom_estimate_std = []\n",
    "for i in range(500):\n",
    "    plt.figure()\n",
    "    ax1 = plt.subplot()\n",
    "    ax1.set_ylim([3, 9])\n",
    "    \n",
    "    y_mean_pre,y_mean_std = GaussianProcessRegressor(kernel=RBF(),normalize_y=True,alpha = Measured_std).fit(data_matrix, Measured_response).predict(virtual_samples.reshape(-1,1),return_std=True) \n",
    "    ax1.scatter(data_matrix,Measured_response,c='r',s=50,zorder=10,edgecolors=(0,0,0),label=\"training data\")\n",
    "    ax1.plot(virtual_samples,True_function(virtual_samples),'b',lw=2,label=\"ture function\")\n",
    "    ax1.plot(virtual_samples,y_mean_pre,'k--',lw=2,zorder=9,label=\"predicted function\")\n",
    "    ax1.fill_between(virtual_samples,y_mean_pre-y_mean_std,y_mean_pre+y_mean_std,alpha=0.2,color='lightblue')\n",
    "    ax1.plot(virtual_samples,y_mean_pre-y_mean_std,'g--',lw=1,label=' ± Sn(x)') \n",
    "    ax1.plot(virtual_samples,y_mean_pre+y_mean_std,'g--',lw=1)\n",
    "\n",
    "    \n",
    "    Bgolearn = BGOS.Bgolearn()\n",
    "    # min_search = False:  searching the global maximum\n",
    "    model = Bgolearn.fit(data_matrix,Measured_response,virtual_samples,noise_std = Measured_std,opt_num = 1,min_search = True)\n",
    "    # recall the utility function \n",
    "    _return = model.Knowledge_G(MC_num=50)*10+3\n",
    "    \n",
    "    \n",
    "    index = np.random.choice(np.flatnonzero(_return == _return.max()))\n",
    "    recommend = virtual_samples[index]\n",
    "    ax1.plot(virtual_samples,_return,'y--',lw=2,label='{name}(x)'.format(name = method_name))\n",
    "    \n",
    "    # give an intrinsic std to recommended datum\n",
    "    datum_y, datum_std, Y_obs = Sam_function(recommend,0.3,obs)\n",
    "    \n",
    "    recom_x.append(recommend)\n",
    "    # Y_obs is the sampling results, array type\n",
    "    recom_obs.append(Y_obs) \n",
    "    recom_estimate_mu.append(datum_y)\n",
    "    recom_estimate_std.append(datum_std)\n",
    "    \n",
    "    Measured_std = np.append(Measured_std,datum_std)\n",
    "    \n",
    "    \n",
    "    data_matrix = np.append(data_matrix,recommend).reshape(-1,1)\n",
    "    Measured_response = np.append(Measured_response,datum_y)\n",
    " \n",
    "    \n",
    "    print(\"{num}-th iteration\".format(num = i + 1),'\\n', 'new added datum:',(recommend,datum_y))\n",
    "    ax1.scatter(round(recommend,1),_return[index],c='red',s=1.5,linewidths=8,label=\"recommended datum\") \n",
    "   \n",
    "    \n",
    "    plt.text(0.1,3.2,'Method : {name}'.format(name = method_name),fontsize=12,color='k')\n",
    "    plt.text(0.1,3.7,'Iter={}'.format(i),fontsize=12,color='k')\n",
    "    plt.text(0.1,8.4,'({})'.format(sort_ab[i]),fontsize=12,color='k')\n",
    "    plt.xlabel('x',fontsize = 12)\n",
    "    plt.ylabel('y',fontsize = 12)\n",
    "    plt.legend(fontsize = 11,loc='upper center')\n",
    "    plt.savefig('fixnoise_{name}-sd_{sdlevel}-obs_{obstime}-{num}.png'.format(name = method_name,sdlevel=guessed_noise_std,obstime = obs,num = i),dpi=800)\n",
    "    plt.savefig('fixnoise_{name}-sd_{sdlevel}-obs_{obstime}-{num}.svg'.format(name = method_name,sdlevel=guessed_noise_std,obstime = obs,num = i),dpi=800)\n",
    "    plt.show()\n",
    "    plt.clf()\n",
    "    if  abs(datum_y - response_array[-1]) / response_array[-1] <= tolerance:\n",
    "        print('last response = ',response_array[-1])\n",
    "        print('added datum y = ',datum_y, ', attached the coverge criteia')\n",
    "        recom_dataset = pd.DataFrame(np.array(recom_obs))\n",
    "        recom_dataset.columns = cal_name\n",
    "        recom_dataset.insert(loc = 0, column = 'x', value = np.array(recom_x))\n",
    "        recom_dataset.insert(loc = 1, column = 'true_y', value = True_function(np.array(recom_x)))\n",
    "        recom_dataset['estimated_mu'] = np.array(recom_estimate_mu)\n",
    "        recom_dataset['estimated_std'] = np.array(recom_estimate_std)\n",
    "        break\n",
    "    elif i>=10:\n",
    "        print('Searching is defeated')\n",
    "        recom_dataset = pd.DataFrame(np.array(recom_obs))\n",
    "        recom_dataset.columns = cal_name\n",
    "        recom_dataset.insert(loc = 0, column = 'x', value = np.array(recom_x))\n",
    "        recom_dataset.insert(loc = 1, column = 'true_y', value = True_function(np.array(recom_x)))\n",
    "        recom_dataset['estimated_mu'] = np.array(recom_estimate_mu)\n",
    "        recom_dataset['estimated_std'] = np.array(recom_estimate_std)\n",
    "        break\n",
    "    else:\n",
    "        response_array = np.append(response_array,datum_y)\n",
    "        \n",
    "\n",
    "recom_dataset.to_csv('fixnoise{noise}_iter{time}data.csv'.format(noise=guessed_noise_std, time = i+1),float_format='%.4f') "
   ]
  },
  {
   "cell_type": "code",
   "execution_count": null,
   "metadata": {},
   "outputs": [],
   "source": []
  },
  {
   "cell_type": "code",
   "execution_count": null,
   "metadata": {},
   "outputs": [],
   "source": []
  }
 ],
 "metadata": {
  "kernelspec": {
   "display_name": "Python 3 (ipykernel)",
   "language": "python",
   "name": "python3"
  },
  "language_info": {
   "codemirror_mode": {
    "name": "ipython",
    "version": 3
   },
   "file_extension": ".py",
   "mimetype": "text/x-python",
   "name": "python",
   "nbconvert_exporter": "python",
   "pygments_lexer": "ipython3",
   "version": "3.9.7"
  },
  "vscode": {
   "interpreter": {
    "hash": "40d3a090f54c6569ab1632332b64b2c03c39dcf918b08424e98f38b5ae0af88f"
   }
  }
 },
 "nbformat": 4,
 "nbformat_minor": 4
}
